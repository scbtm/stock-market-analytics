{
 "cells": [
  {
   "cell_type": "code",
   "execution_count": 2,
   "id": "67d297ed",
   "metadata": {},
   "outputs": [
    {
     "data": {
      "text/html": [
       "<div><style>\n",
       ".dataframe > thead > tr,\n",
       ".dataframe > tbody > tr {\n",
       "  text-align: right;\n",
       "  white-space: pre-wrap;\n",
       "}\n",
       "</style>\n",
       "<small>shape: (44_066, 7)</small><table border=\"1\" class=\"dataframe\"><thead><tr><th>date</th><th>symbol</th><th>open</th><th>high</th><th>low</th><th>close</th><th>volume</th></tr><tr><td>date</td><td>str</td><td>f64</td><td>f64</td><td>f64</td><td>f64</td><td>i64</td></tr></thead><tbody><tr><td>2023-05-26</td><td>&quot;ATMU&quot;</td><td>21.52217</td><td>22.346508</td><td>21.363262</td><td>21.502306</td><td>6277900</td></tr><tr><td>2023-05-27</td><td>&quot;ATMU&quot;</td><td>null</td><td>null</td><td>null</td><td>null</td><td>null</td></tr><tr><td>2023-05-28</td><td>&quot;ATMU&quot;</td><td>null</td><td>null</td><td>null</td><td>null</td><td>null</td></tr><tr><td>2023-05-29</td><td>&quot;ATMU&quot;</td><td>null</td><td>null</td><td>null</td><td>null</td><td>null</td></tr><tr><td>2023-05-30</td><td>&quot;ATMU&quot;</td><td>21.1249</td><td>21.750602</td><td>20.856742</td><td>21.522171</td><td>892600</td></tr><tr><td>&hellip;</td><td>&hellip;</td><td>&hellip;</td><td>&hellip;</td><td>&hellip;</td><td>&hellip;</td><td>&hellip;</td></tr><tr><td>2025-08-24</td><td>&quot;VICI&quot;</td><td>null</td><td>null</td><td>null</td><td>null</td><td>null</td></tr><tr><td>2025-08-25</td><td>&quot;VICI&quot;</td><td>33.349998</td><td>33.619999</td><td>33.330002</td><td>33.5</td><td>9778100</td></tr><tr><td>2025-08-26</td><td>&quot;VICI&quot;</td><td>33.490002</td><td>33.634998</td><td>33.27</td><td>33.450001</td><td>10021600</td></tr><tr><td>2025-08-28</td><td>&quot;VICI&quot;</td><td>33.759998</td><td>33.764</td><td>33.360001</td><td>33.509998</td><td>7280200</td></tr><tr><td>2025-08-29</td><td>&quot;VICI&quot;</td><td>33.599998</td><td>33.915001</td><td>33.52</td><td>33.779999</td><td>7845500</td></tr></tbody></table></div>"
      ],
      "text/plain": [
       "shape: (44_066, 7)\n",
       "┌────────────┬────────┬───────────┬───────────┬───────────┬───────────┬──────────┐\n",
       "│ date       ┆ symbol ┆ open      ┆ high      ┆ low       ┆ close     ┆ volume   │\n",
       "│ ---        ┆ ---    ┆ ---       ┆ ---       ┆ ---       ┆ ---       ┆ ---      │\n",
       "│ date       ┆ str    ┆ f64       ┆ f64       ┆ f64       ┆ f64       ┆ i64      │\n",
       "╞════════════╪════════╪═══════════╪═══════════╪═══════════╪═══════════╪══════════╡\n",
       "│ 2023-05-26 ┆ ATMU   ┆ 21.52217  ┆ 22.346508 ┆ 21.363262 ┆ 21.502306 ┆ 6277900  │\n",
       "│ 2023-05-27 ┆ ATMU   ┆ null      ┆ null      ┆ null      ┆ null      ┆ null     │\n",
       "│ 2023-05-28 ┆ ATMU   ┆ null      ┆ null      ┆ null      ┆ null      ┆ null     │\n",
       "│ 2023-05-29 ┆ ATMU   ┆ null      ┆ null      ┆ null      ┆ null      ┆ null     │\n",
       "│ 2023-05-30 ┆ ATMU   ┆ 21.1249   ┆ 21.750602 ┆ 20.856742 ┆ 21.522171 ┆ 892600   │\n",
       "│ …          ┆ …      ┆ …         ┆ …         ┆ …         ┆ …         ┆ …        │\n",
       "│ 2025-08-24 ┆ VICI   ┆ null      ┆ null      ┆ null      ┆ null      ┆ null     │\n",
       "│ 2025-08-25 ┆ VICI   ┆ 33.349998 ┆ 33.619999 ┆ 33.330002 ┆ 33.5      ┆ 9778100  │\n",
       "│ 2025-08-26 ┆ VICI   ┆ 33.490002 ┆ 33.634998 ┆ 33.27     ┆ 33.450001 ┆ 10021600 │\n",
       "│ 2025-08-28 ┆ VICI   ┆ 33.759998 ┆ 33.764    ┆ 33.360001 ┆ 33.509998 ┆ 7280200  │\n",
       "│ 2025-08-29 ┆ VICI   ┆ 33.599998 ┆ 33.915001 ┆ 33.52     ┆ 33.779999 ┆ 7845500  │\n",
       "└────────────┴────────┴───────────┴───────────┴───────────┴───────────┴──────────┘"
      ]
     },
     "execution_count": 2,
     "metadata": {},
     "output_type": "execute_result"
    }
   ],
   "source": [
    "import polars as pl\n",
    "data_path = \"/workspaces/stock-market-analytics/data/stocks_history.parquet\"\n",
    "\n",
    "df = pl.read_parquet(data_path)\n",
    "\n",
    "df"
   ]
  },
  {
   "cell_type": "code",
   "execution_count": 3,
   "id": "cfcf75fa",
   "metadata": {},
   "outputs": [
    {
     "data": {
      "text/html": [
       "<div><style>\n",
       ".dataframe > thead > tr,\n",
       ".dataframe > tbody > tr {\n",
       "  text-align: right;\n",
       "  white-space: pre-wrap;\n",
       "}\n",
       "</style>\n",
       "<small>shape: (826, 7)</small><table border=\"1\" class=\"dataframe\"><thead><tr><th>date</th><th>symbol</th><th>open</th><th>high</th><th>low</th><th>close</th><th>volume</th></tr><tr><td>date</td><td>str</td><td>f64</td><td>f64</td><td>f64</td><td>f64</td><td>i64</td></tr></thead><tbody><tr><td>2023-05-26</td><td>&quot;ATMU&quot;</td><td>21.52217</td><td>22.346508</td><td>21.363262</td><td>21.502306</td><td>6277900</td></tr><tr><td>2023-05-27</td><td>&quot;ATMU&quot;</td><td>null</td><td>null</td><td>null</td><td>null</td><td>null</td></tr><tr><td>2023-05-28</td><td>&quot;ATMU&quot;</td><td>null</td><td>null</td><td>null</td><td>null</td><td>null</td></tr><tr><td>2023-05-29</td><td>&quot;ATMU&quot;</td><td>null</td><td>null</td><td>null</td><td>null</td><td>null</td></tr><tr><td>2023-05-30</td><td>&quot;ATMU&quot;</td><td>21.1249</td><td>21.750602</td><td>20.856742</td><td>21.522171</td><td>892600</td></tr><tr><td>&hellip;</td><td>&hellip;</td><td>&hellip;</td><td>&hellip;</td><td>&hellip;</td><td>&hellip;</td><td>&hellip;</td></tr><tr><td>2025-08-24</td><td>&quot;ATMU&quot;</td><td>null</td><td>null</td><td>null</td><td>null</td><td>null</td></tr><tr><td>2025-08-25</td><td>&quot;ATMU&quot;</td><td>43.795446</td><td>44.334775</td><td>43.730528</td><td>44.154999</td><td>662700</td></tr><tr><td>2025-08-26</td><td>&quot;ATMU&quot;</td><td>44.169998</td><td>44.419998</td><td>43.895</td><td>44.040001</td><td>585300</td></tr><tr><td>2025-08-28</td><td>&quot;ATMU&quot;</td><td>44.830002</td><td>44.830002</td><td>44.25</td><td>44.59</td><td>482600</td></tr><tr><td>2025-08-29</td><td>&quot;ATMU&quot;</td><td>44.560001</td><td>44.779999</td><td>44.16</td><td>44.52</td><td>604300</td></tr></tbody></table></div>"
      ],
      "text/plain": [
       "shape: (826, 7)\n",
       "┌────────────┬────────┬───────────┬───────────┬───────────┬───────────┬─────────┐\n",
       "│ date       ┆ symbol ┆ open      ┆ high      ┆ low       ┆ close     ┆ volume  │\n",
       "│ ---        ┆ ---    ┆ ---       ┆ ---       ┆ ---       ┆ ---       ┆ ---     │\n",
       "│ date       ┆ str    ┆ f64       ┆ f64       ┆ f64       ┆ f64       ┆ i64     │\n",
       "╞════════════╪════════╪═══════════╪═══════════╪═══════════╪═══════════╪═════════╡\n",
       "│ 2023-05-26 ┆ ATMU   ┆ 21.52217  ┆ 22.346508 ┆ 21.363262 ┆ 21.502306 ┆ 6277900 │\n",
       "│ 2023-05-27 ┆ ATMU   ┆ null      ┆ null      ┆ null      ┆ null      ┆ null    │\n",
       "│ 2023-05-28 ┆ ATMU   ┆ null      ┆ null      ┆ null      ┆ null      ┆ null    │\n",
       "│ 2023-05-29 ┆ ATMU   ┆ null      ┆ null      ┆ null      ┆ null      ┆ null    │\n",
       "│ 2023-05-30 ┆ ATMU   ┆ 21.1249   ┆ 21.750602 ┆ 20.856742 ┆ 21.522171 ┆ 892600  │\n",
       "│ …          ┆ …      ┆ …         ┆ …         ┆ …         ┆ …         ┆ …       │\n",
       "│ 2025-08-24 ┆ ATMU   ┆ null      ┆ null      ┆ null      ┆ null      ┆ null    │\n",
       "│ 2025-08-25 ┆ ATMU   ┆ 43.795446 ┆ 44.334775 ┆ 43.730528 ┆ 44.154999 ┆ 662700  │\n",
       "│ 2025-08-26 ┆ ATMU   ┆ 44.169998 ┆ 44.419998 ┆ 43.895    ┆ 44.040001 ┆ 585300  │\n",
       "│ 2025-08-28 ┆ ATMU   ┆ 44.830002 ┆ 44.830002 ┆ 44.25     ┆ 44.59     ┆ 482600  │\n",
       "│ 2025-08-29 ┆ ATMU   ┆ 44.560001 ┆ 44.779999 ┆ 44.16     ┆ 44.52     ┆ 604300  │\n",
       "└────────────┴────────┴───────────┴───────────┴───────────┴───────────┴─────────┘"
      ]
     },
     "execution_count": 3,
     "metadata": {},
     "output_type": "execute_result"
    }
   ],
   "source": [
    "atmu = df.filter(pl.col(\"symbol\") == \"ATMU\")\n",
    "\n",
    "atmu"
   ]
  },
  {
   "cell_type": "code",
   "execution_count": 4,
   "id": "5af6a7fc",
   "metadata": {},
   "outputs": [
    {
     "data": {
      "text/plain": [
       "Schema([('date', Date),\n",
       "        ('symbol', String),\n",
       "        ('open', Float64),\n",
       "        ('high', Float64),\n",
       "        ('low', Float64),\n",
       "        ('close', Float64),\n",
       "        ('volume', Int64)])"
      ]
     },
     "execution_count": 4,
     "metadata": {},
     "output_type": "execute_result"
    }
   ],
   "source": [
    "atmu.schema"
   ]
  },
  {
   "cell_type": "code",
   "execution_count": 14,
   "id": "2e9bd2f4",
   "metadata": {},
   "outputs": [
    {
     "data": {
      "text/html": [
       "<div><style>\n",
       ".dataframe > thead > tr,\n",
       ".dataframe > tbody > tr {\n",
       "  text-align: right;\n",
       "  white-space: pre-wrap;\n",
       "}\n",
       "</style>\n",
       "<small>shape: (6, 1)</small><table border=\"1\" class=\"dataframe\"><thead><tr><th>log_returns_d</th></tr><tr><td>f64</td></tr></thead><tbody><tr><td>null</td></tr><tr><td>0.405465</td></tr><tr><td>-0.628609</td></tr><tr><td>-0.105361</td></tr><tr><td>null</td></tr><tr><td>0.09531</td></tr></tbody></table></div>"
      ],
      "text/plain": [
       "shape: (6, 1)\n",
       "┌───────────────┐\n",
       "│ log_returns_d │\n",
       "│ ---           │\n",
       "│ f64           │\n",
       "╞═══════════════╡\n",
       "│ null          │\n",
       "│ 0.405465      │\n",
       "│ -0.628609     │\n",
       "│ -0.105361     │\n",
       "│ null          │\n",
       "│ 0.09531       │\n",
       "└───────────────┘"
      ]
     },
     "execution_count": 14,
     "metadata": {},
     "output_type": "execute_result"
    }
   ],
   "source": [
    "some_df = pl.DataFrame({\n",
    "    \"symbol\": [\"AAPL\", \"AAPL\", \"AAPL\", \"AAPL\", \"MSFT\", \"MSFT\"],\n",
    "    \"close\": [100, 150, 80, 72, 200, 220]\n",
    "})\n",
    "some_df.select(pl.col(\"close\").log().diff().over('symbol').alias(\"log_returns_d\"))"
   ]
  },
  {
   "cell_type": "code",
   "execution_count": null,
   "id": "3e2e99ea",
   "metadata": {},
   "outputs": [],
   "source": []
  }
 ],
 "metadata": {
  "kernelspec": {
   "display_name": "stock-market-analytics",
   "language": "python",
   "name": "python3"
  },
  "language_info": {
   "codemirror_mode": {
    "name": "ipython",
    "version": 3
   },
   "file_extension": ".py",
   "mimetype": "text/x-python",
   "name": "python",
   "nbconvert_exporter": "python",
   "pygments_lexer": "ipython3",
   "version": "3.12.1"
  }
 },
 "nbformat": 4,
 "nbformat_minor": 5
}
